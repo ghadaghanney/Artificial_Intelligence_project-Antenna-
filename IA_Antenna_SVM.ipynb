{
 "cells": [
  {
   "cell_type": "markdown",
   "metadata": {},
   "source": [
    "### J'ai essayé avec une 2éme solution des Séparatrices à Vaste Marge (SVM)"
   ]
  },
  {
   "cell_type": "markdown",
   "metadata": {},
   "source": [
    "#### Importer les packages"
   ]
  },
  {
   "cell_type": "code",
   "execution_count": 163,
   "metadata": {},
   "outputs": [],
   "source": [
    "# Packages for analysis\n",
    "import pandas as pd\n",
    "import numpy as np\n",
    "from sklearn import svm\n",
    "from random import Random\n",
    "\n",
    "\n",
    "# Packages for visuals\n",
    "import matplotlib.pyplot as plt\n",
    "import seaborn as sns; sns.set(font_scale=1.2)\n",
    "\n",
    "# Allows charts to appear in the notebook\n",
    "%matplotlib inline\n",
    "\n",
    "# Pickle package\n",
    "import pickle"
   ]
  },
  {
   "cell_type": "code",
   "execution_count": 164,
   "metadata": {
    "scrolled": true
   },
   "outputs": [
    {
     "data": {
      "text/html": [
       "<div>\n",
       "<style scoped>\n",
       "    .dataframe tbody tr th:only-of-type {\n",
       "        vertical-align: middle;\n",
       "    }\n",
       "\n",
       "    .dataframe tbody tr th {\n",
       "        vertical-align: top;\n",
       "    }\n",
       "\n",
       "    .dataframe thead th {\n",
       "        text-align: right;\n",
       "    }\n",
       "</style>\n",
       "<table border=\"1\" class=\"dataframe\">\n",
       "  <thead>\n",
       "    <tr style=\"text-align: right;\">\n",
       "      <th></th>\n",
       "      <th>Numéro de mesure</th>\n",
       "      <th>Longitude</th>\n",
       "      <th>Latitude</th>\n",
       "      <th>Position</th>\n",
       "      <th>Insee</th>\n",
       "      <th>Adresse</th>\n",
       "      <th>Complément</th>\n",
       "      <th>Code postal</th>\n",
       "      <th>Commune</th>\n",
       "      <th>Date de mesure</th>\n",
       "      <th>Mesure réalisée</th>\n",
       "      <th>Rapport</th>\n",
       "      <th>Conformité de la mesure</th>\n",
       "      <th>target</th>\n",
       "      <th>Niveau global</th>\n",
       "      <th>Type d'environnement</th>\n",
       "      <th>Laboratoire</th>\n",
       "    </tr>\n",
       "  </thead>\n",
       "  <tbody>\n",
       "    <tr>\n",
       "      <th>0</th>\n",
       "      <td>175</td>\n",
       "      <td>3.91611</td>\n",
       "      <td>43.58528</td>\n",
       "      <td>03° 54' 58.00'' Est, 43° 35' 07.00'' Nord</td>\n",
       "      <td>34129</td>\n",
       "      <td>Mas de Gau</td>\n",
       "      <td>NaN</td>\n",
       "      <td>34970</td>\n",
       "      <td>LATTES</td>\n",
       "      <td>06/12/2001</td>\n",
       "      <td>En extérieur</td>\n",
       "      <td>FicheMesure175.pdf</td>\n",
       "      <td>Oui</td>\n",
       "      <td>1</td>\n",
       "      <td>0.23</td>\n",
       "      <td>Divers</td>\n",
       "      <td>SATELIT</td>\n",
       "    </tr>\n",
       "    <tr>\n",
       "      <th>1</th>\n",
       "      <td>180</td>\n",
       "      <td>4.04194</td>\n",
       "      <td>43.64694</td>\n",
       "      <td>04° 02' 31.00'' Est, 43° 38' 49.00'' Nord</td>\n",
       "      <td>34176</td>\n",
       "      <td>5539 Rue Lou Claou de la Oulivettas</td>\n",
       "      <td>NaN</td>\n",
       "      <td>34130</td>\n",
       "      <td>MUDAISON</td>\n",
       "      <td>06/12/2001</td>\n",
       "      <td>En extérieur</td>\n",
       "      <td>FicheMesure180.pdf</td>\n",
       "      <td>Oui</td>\n",
       "      <td>1</td>\n",
       "      <td>0.22</td>\n",
       "      <td>Divers</td>\n",
       "      <td>SATELIT</td>\n",
       "    </tr>\n",
       "    <tr>\n",
       "      <th>2</th>\n",
       "      <td>543</td>\n",
       "      <td>3.03167</td>\n",
       "      <td>43.36028</td>\n",
       "      <td>03° 01' 54.00'' Est, 43° 21' 37.00'' Nord</td>\n",
       "      <td>34225</td>\n",
       "      <td>Chemin de Montfaucon</td>\n",
       "      <td>résidence de  Mme SOUTADE</td>\n",
       "      <td>34620</td>\n",
       "      <td>PUISSERGUIER</td>\n",
       "      <td>23/05/2002</td>\n",
       "      <td>En extérieur</td>\n",
       "      <td>FicheMesure543.pdf</td>\n",
       "      <td>Oui</td>\n",
       "      <td>1</td>\n",
       "      <td>0.54</td>\n",
       "      <td>Divers</td>\n",
       "      <td>APAVE</td>\n",
       "    </tr>\n",
       "    <tr>\n",
       "      <th>3</th>\n",
       "      <td>545</td>\n",
       "      <td>3.03278</td>\n",
       "      <td>43.36167</td>\n",
       "      <td>03° 01' 58.00'' Est, 43° 21' 42.00'' Nord</td>\n",
       "      <td>34225</td>\n",
       "      <td>Chemin de Quarante</td>\n",
       "      <td>résidence de  M. GONZALEZ</td>\n",
       "      <td>34620</td>\n",
       "      <td>PUISSERGUIER</td>\n",
       "      <td>23/05/2002</td>\n",
       "      <td>En extérieur</td>\n",
       "      <td>FicheMesure545.pdf</td>\n",
       "      <td>Oui</td>\n",
       "      <td>1</td>\n",
       "      <td>5.55</td>\n",
       "      <td>Divers</td>\n",
       "      <td>APAVE</td>\n",
       "    </tr>\n",
       "    <tr>\n",
       "      <th>4</th>\n",
       "      <td>850</td>\n",
       "      <td>3.56444</td>\n",
       "      <td>43.64583</td>\n",
       "      <td>03° 33' 52.00'' Est, 43° 38' 45.00'' Nord</td>\n",
       "      <td>34114</td>\n",
       "      <td>480 Chemin de Pioch Courbi</td>\n",
       "      <td>Chez Mme et M. GALOIS</td>\n",
       "      <td>34150</td>\n",
       "      <td>GIGNAC</td>\n",
       "      <td>10/10/2002</td>\n",
       "      <td>En extérieur</td>\n",
       "      <td>FicheMesure850.pdf</td>\n",
       "      <td>Oui</td>\n",
       "      <td>0</td>\n",
       "      <td>6.89</td>\n",
       "      <td>Rue / Route / Parking</td>\n",
       "      <td>APAVE</td>\n",
       "    </tr>\n",
       "  </tbody>\n",
       "</table>\n",
       "</div>"
      ],
      "text/plain": [
       "   Numéro de mesure  Longitude      Latitude  \\\n",
       "0               175    3.91611      43.58528   \n",
       "1               180    4.04194      43.64694   \n",
       "2               543    3.03167      43.36028   \n",
       "3               545    3.03278      43.36167   \n",
       "4               850    3.56444      43.64583   \n",
       "\n",
       "                                    Position  Insee  \\\n",
       "0  03° 54' 58.00'' Est, 43° 35' 07.00'' Nord  34129   \n",
       "1  04° 02' 31.00'' Est, 43° 38' 49.00'' Nord  34176   \n",
       "2  03° 01' 54.00'' Est, 43° 21' 37.00'' Nord  34225   \n",
       "3  03° 01' 58.00'' Est, 43° 21' 42.00'' Nord  34225   \n",
       "4  03° 33' 52.00'' Est, 43° 38' 45.00'' Nord  34114   \n",
       "\n",
       "                               Adresse                 Complément  \\\n",
       "0                           Mas de Gau                        NaN   \n",
       "1  5539 Rue Lou Claou de la Oulivettas                        NaN   \n",
       "2                 Chemin de Montfaucon  résidence de  Mme SOUTADE   \n",
       "3                   Chemin de Quarante  résidence de  M. GONZALEZ   \n",
       "4           480 Chemin de Pioch Courbi      Chez Mme et M. GALOIS   \n",
       "\n",
       "   Code postal       Commune Date de mesure Mesure réalisée  \\\n",
       "0        34970        LATTES     06/12/2001    En extérieur   \n",
       "1        34130      MUDAISON     06/12/2001    En extérieur   \n",
       "2        34620  PUISSERGUIER     23/05/2002    En extérieur   \n",
       "3        34620  PUISSERGUIER     23/05/2002    En extérieur   \n",
       "4        34150        GIGNAC     10/10/2002    En extérieur   \n",
       "\n",
       "              Rapport Conformité de la mesure  target  Niveau global  \\\n",
       "0  FicheMesure175.pdf                     Oui       1           0.23   \n",
       "1  FicheMesure180.pdf                     Oui       1           0.22   \n",
       "2  FicheMesure543.pdf                     Oui       1           0.54   \n",
       "3  FicheMesure545.pdf                     Oui       1           5.55   \n",
       "4  FicheMesure850.pdf                     Oui       0           6.89   \n",
       "\n",
       "    Type d'environnement Laboratoire  \n",
       "0                 Divers     SATELIT  \n",
       "1                 Divers     SATELIT  \n",
       "2                 Divers       APAVE  \n",
       "3                 Divers       APAVE  \n",
       "4  Rue / Route / Parking       APAVE  "
      ]
     },
     "execution_count": 164,
     "metadata": {},
     "output_type": "execute_result"
    }
   ],
   "source": [
    "df1 = pd.read_csv('New_Data_Set.csv')\n",
    "df1.head()"
   ]
  },
  {
   "cell_type": "markdown",
   "metadata": {},
   "source": [
    "#### Preparer les données"
   ]
  },
  {
   "cell_type": "code",
   "execution_count": 166,
   "metadata": {},
   "outputs": [],
   "source": [
    "df1.rename(columns={'Niveau global': 'Niveau_global'}, inplace=True)"
   ]
  },
  {
   "cell_type": "code",
   "execution_count": 152,
   "metadata": {},
   "outputs": [],
   "source": [
    "def target():\n",
    "    for t in range(0,len(df)):\n",
    "        if df['Niveau_global'][t] > 6 : \n",
    "            df['target'][t] = 0\n",
    "            print(df['Niveau_global'][t]) "
   ]
  },
  {
   "cell_type": "code",
   "execution_count": 153,
   "metadata": {},
   "outputs": [
    {
     "data": {
      "image/png": "[encoded data removed]",
      "text/plain": [
       "<Figure size 415.895x360 with 1 Axes>"
      ]
     },
     "metadata": {
      "needs_background": "light"
     },
     "output_type": "display_data"
    }
   ],
   "source": [
    "\n",
    "sns.lmplot('Numéro de mesure', 'Niveau_global', data=df1, hue='target',\n",
    "           palette='Set1', fit_reg=False, scatter_kws={\"s\": 70});\n"
   ]
  },
  {
   "cell_type": "markdown",
   "metadata": {},
   "source": [
    "#### La couleur rouge pour les valeurs qui sont supérieur à 6 et la couleur bleu  pour les valeurs qui sont  inférieur à 6 \n"
   ]
  },
  {
   "cell_type": "code",
   "execution_count": 154,
   "metadata": {},
   "outputs": [
    {
     "data": {
      "text/plain": [
       "Index(['Numéro de mesure', 'Longitude', '    Latitude', 'Position', 'Insee',\n",
       "       'Adresse', 'Complément', 'Code postal', 'Commune', 'Date de mesure',\n",
       "       'Mesure réalisée', 'Rapport', 'Conformité de la mesure', 'target',\n",
       "       'Niveau_global', 'Type d'environnement', 'Laboratoire'],\n",
       "      dtype='object')"
      ]
     },
     "execution_count": 154,
     "metadata": {},
     "output_type": "execute_result"
    }
   ],
   "source": [
    "df1.columns # cette ligne permet d'obtenir les différentes colonnes que j'ai dans Dataset."
   ]
  },
  {
   "cell_type": "code",
   "execution_count": 155,
   "metadata": {},
   "outputs": [
    {
     "data": {
      "text/plain": [
       "1    21\n",
       "0    21\n",
       "Name: target, dtype: int64"
      ]
     },
     "execution_count": 155,
     "metadata": {},
     "output_type": "execute_result"
    }
   ],
   "source": [
    "#pd.crosstab(df1.target, \"freq\") \n",
    "df1['target'].value_counts()"
   ]
  },
  {
   "cell_type": "code",
   "execution_count": 156,
   "metadata": {},
   "outputs": [],
   "source": [
    "#df2 = df1[df1['Niveau_global']==1][0:10]\n",
    "#df3 = df1[df1['Niveau_global']==0][0:10]"
   ]
  },
  {
   "cell_type": "code",
   "execution_count": 158,
   "metadata": {},
   "outputs": [
    {
     "name": "stdout",
     "output_type": "stream",
     "text": [
      "[[1.75000e+02 2.30000e-01]\n",
      " [1.80000e+02 2.20000e-01]\n",
      " [5.43000e+02 5.40000e-01]\n",
      " [5.45000e+02 5.55000e+00]\n",
      " [8.50000e+02 6.89000e+00]\n",
      " [8.51000e+02 6.90000e+00]\n",
      " [8.52000e+02 9.90000e-01]\n",
      " [1.07200e+03 6.70000e+00]\n",
      " [1.07300e+03 2.20000e-01]\n",
      " [1.07400e+03 6.88000e+00]\n",
      " [1.11500e+03 6.99000e+00]\n",
      " [1.19300e+03 6.35000e+00]\n",
      " [1.19400e+03 1.47000e+00]\n",
      " [1.19500e+03 5.70000e-01]\n",
      " [1.95500e+03 5.00000e+00]\n",
      " [2.28600e+03 5.99999e+00]\n",
      " [2.42800e+03 9.63000e+00]\n",
      " [2.42900e+03 5.16000e+00]\n",
      " [3.04300e+03 6.01000e+00]\n",
      " [3.04500e+03 9.80000e+00]\n",
      " [3.04600e+03 5.88000e+00]\n",
      " [3.04700e+03 8.00000e+00]\n",
      " [3.26100e+03 9.55000e+00]\n",
      " [3.26300e+03 5.55000e+00]\n",
      " [3.30900e+03 7.95000e+00]\n",
      " [3.31000e+03 9.50000e-01]\n",
      " [3.87600e+03 4.00000e+00]\n",
      " [3.87700e+03 1.12000e+00]\n",
      " [3.87800e+03 2.00000e+00]\n",
      " [3.87900e+03 6.00000e+00]\n",
      " [4.46700e+03 1.39000e+00]\n",
      " [4.46800e+03 7.06000e+00]\n",
      " [4.66400e+03 7.88000e+00]\n",
      " [4.93000e+03 6.10000e+00]\n",
      " [4.93100e+03 6.38000e+00]\n",
      " [4.93200e+03 7.11000e+00]\n",
      " [4.93300e+03 3.00000e+00]\n",
      " [4.93400e+03 6.95000e+00]\n",
      " [4.93500e+03 8.07000e+00]\n",
      " [4.95900e+03 9.90000e-01]\n",
      " [4.96000e+03 5.99000e+00]\n",
      " [4.96100e+03 6.08000e+00]]\n",
      "[1 1 1 1 0 0 1 0 1 0 0 0 1 1 1 1 0 1 0 0 1 0 0 1 0 1 1 1 1 0 1 0 0 0 0 0 1\n",
      " 0 0 1 1 0]\n"
     ]
    }
   ],
   "source": [
    "Z=df1[['Numéro de mesure','Niveau_global']].to_numpy()\n",
    "print(Z)\n",
    "z=df1['target'].to_numpy()\n",
    "print(z)"
   ]
  },
  {
   "cell_type": "code",
   "execution_count": 159,
   "metadata": {},
   "outputs": [
    {
     "name": "stdout",
     "output_type": "stream",
     "text": [
      "[1 1 1 1 0 0 1 0 1 0 0 0 1 1 1 1 0 1 1 0 1 0 0 1 0 1 1 1 1 1 1 0 0 1 0 0 1\n",
      " 0 0 1 1 1]\n"
     ]
    }
   ],
   "source": [
    "y1_predict=classifier.predict(Z)\n",
    "print(y1_predict)"
   ]
  },
  {
   "cell_type": "markdown",
   "metadata": {},
   "source": [
    "#### Le model SVM"
   ]
  },
  {
   "cell_type": "code",
   "execution_count": null,
   "metadata": {},
   "outputs": [],
   "source": [
    "from sklearn.model_selection import train_test_split\n",
    "X_train, X_test, y_train, y_test = train_test_split(x, y, test_size=0.3, random_state=0)\n",
    "#X_train.shape"
   ]
  },
  {
   "cell_type": "markdown",
   "metadata": {},
   "source": [
    "#### Séparatrices à Vaste Marge (anglais : Support Vector Machine, SVM)"
   ]
  },
  {
   "cell_type": "markdown",
   "metadata": {},
   "source": [
    "#### <font color='blue'>Problème de classification, SVM : C'est quoi ?</font>\n",
    "\n",
    "Considérons la figure ci dessus. On se place dans le plan, et l’on dispose de deux catégories : les ronds rouges et les ronds bleus, chacune occupant une région différente du plan. Cependant, la frontière entre ces deux régions n’est pas connue. Ce que l’on veut, c’est que quand on lui présentera un nouveau point dont on ne connaît que la position dans le plan, l’algorithme de classification sera capable de prédire si ce nouveau point est un rond rouge ou un rond bleu.\n",
    "\n",
    "Voici notre problème de classification : pour chaque nouvelle entrée, être capable de déterminer à quelle catégorie cette entrée appartient.\n",
    "Autrement dit, il faut être capable de trouver la frontière entre les différentes catégories. Si on connaît la frontière, savoir de quel côté de la frontière appartient le point, et donc à quelle catégorie il appartient.\n",
    "\n",
    "Le SVM est une solution à ce problème de classification1. Le SVM appartient à la catégorie des classificateurs linéaires (qui utilisent une séparation linéaire des données), et qui dispose de sa méthode à lui pour trouver la frontière entre les catégories.\n",
    "\n",
    "Pour que le SVM puisse trouver cette frontière, il est nécessaire de lui donner des données d’entraînement. En l’occurrence, on donne au SVM un ensemble de points, dont on sait déjà si ce sont des carrés rouges ou des ronds bleus, comme dans la Figure 1. A partir de ces données, le SVM va estimer l’emplacement le plus plausible de la frontière : c’est la période d'entraînement, nécessaire à tout algorithme d’apprentissage automatique.\n",
    "\n",
    "Une fois la phase d’entraînement terminée, le SVM a ainsi trouvé, à partir de données d’entraînement, l’emplacement supposé de la frontière. En quelque sorte, il a « appris » l’emplacement de la frontière grâce aux données d’entraînement. Qui plus est, le SVM est maintenant capable de prédire à quelle catégorie appartient une entrée qu’il n’avait jamais vue avant, et sans intervention humaine : c’est là tout l’intérêt de l’apprentissage automatique.\n",
    "\n",
    "https://zestedesavoir.com/tutoriels/1760/un-peu-de-machine-learning-avec-les-svm/#1-probleme-de-classification-svm-vous-pouvez-repeter-la-question\n"
   ]
  },
  {
   "cell_type": "code",
   "execution_count": 167,
   "metadata": {},
   "outputs": [],
   "source": [
    "from sklearn import svm \n",
    "\n",
    "classifier = svm.SVC(kernel='linear' , gamma='auto' , C=2)\n",
    "classifier.fit(X_train, y_train)\n",
    "y_predict = classifier.predict(X_test)"
   ]
  },
  {
   "cell_type": "code",
   "execution_count": 162,
   "metadata": {},
   "outputs": [
    {
     "name": "stdout",
     "output_type": "stream",
     "text": [
      "[[17  4]\n",
      " [ 0 21]]\n",
      "              precision    recall  f1-score   support\n",
      "\n",
      "           0       1.00      0.81      0.89        21\n",
      "           1       0.84      1.00      0.91        21\n",
      "\n",
      "    accuracy                           0.90        42\n",
      "   macro avg       0.92      0.90      0.90        42\n",
      "weighted avg       0.92      0.90      0.90        42\n",
      "\n",
      "0.9047619047619048\n"
     ]
    }
   ],
   "source": [
    "from sklearn.metrics import classification_report, confusion_matrix, accuracy_score\n",
    "\n",
    "classification_report(y_test, y_predict)\n",
    "\n",
    "print(confusion_matrix(z,y1_predict))\n",
    "print(classification_report(z,y1_predict))\n",
    "print(accuracy_score(z, y1_predict))"
   ]
  },
  {
   "cell_type": "markdown",
   "metadata": {},
   "source": [
    "### Avec une Dataset équilibré , j'obtient une précision de 90%."
   ]
  }
 ],
 "metadata": {
  "kernelspec": {
   "display_name": "Python 3",
   "language": "python",
   "name": "python3"
  },
  "language_info": {
   "codemirror_mode": {
    "name": "ipython",
    "version": 3
   },
   "file_extension": ".py",
   "mimetype": "text/x-python",
   "name": "python",
   "nbconvert_exporter": "python",
   "pygments_lexer": "ipython3",
   "version": "3.8.3"
  }
 },
 "nbformat": 4,
 "nbformat_minor": 4
}
